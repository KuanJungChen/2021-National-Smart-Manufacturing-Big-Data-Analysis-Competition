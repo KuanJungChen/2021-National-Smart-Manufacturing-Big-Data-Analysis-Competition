{
  "nbformat": 4,
  "nbformat_minor": 0,
  "metadata": {
    "colab": {
      "name": "20210920_全國大賽.ipynb",
      "provenance": []
    },
    "kernelspec": {
      "name": "python3",
      "display_name": "Python 3"
    },
    "language_info": {
      "name": "python"
    }
  },
  "cells": [
    {
      "cell_type": "code",
      "metadata": {
        "id": "WvIvtoT2SwGa"
      },
      "source": [
        "import numpy as np\n",
        "import pandas as pd"
      ],
      "execution_count": 2,
      "outputs": []
    },
    {
      "cell_type": "code",
      "metadata": {
        "colab": {
          "base_uri": "https://localhost:8080/",
          "height": 204
        },
        "id": "WbTMxIy-Sy9p",
        "outputId": "e97ccff2-9202-4fc2-b090-b2fbd773de01"
      },
      "source": [
        "#讀取csv\n",
        "df = pd.read_csv(\"/content/drive/MyDrive/資料集/全國大賽/20210817 train.csv\")\n",
        "df.head()\n"
      ],
      "execution_count": 3,
      "outputs": [
        {
          "output_type": "execute_result",
          "data": {
            "text/html": [
              "<div>\n",
              "<style scoped>\n",
              "    .dataframe tbody tr th:only-of-type {\n",
              "        vertical-align: middle;\n",
              "    }\n",
              "\n",
              "    .dataframe tbody tr th {\n",
              "        vertical-align: top;\n",
              "    }\n",
              "\n",
              "    .dataframe thead th {\n",
              "        text-align: right;\n",
              "    }\n",
              "</style>\n",
              "<table border=\"1\" class=\"dataframe\">\n",
              "  <thead>\n",
              "    <tr style=\"text-align: right;\">\n",
              "      <th></th>\n",
              "      <th>SeqNo</th>\n",
              "      <th>F_1</th>\n",
              "      <th>F_2</th>\n",
              "      <th>F_3</th>\n",
              "      <th>F_4</th>\n",
              "      <th>F_5</th>\n",
              "      <th>F_6</th>\n",
              "      <th>F_7</th>\n",
              "      <th>F_8</th>\n",
              "      <th>F_9</th>\n",
              "      <th>F_10</th>\n",
              "      <th>F_11</th>\n",
              "      <th>F_12</th>\n",
              "      <th>F_13</th>\n",
              "      <th>O</th>\n",
              "    </tr>\n",
              "  </thead>\n",
              "  <tbody>\n",
              "    <tr>\n",
              "      <th>0</th>\n",
              "      <td>1</td>\n",
              "      <td>0</td>\n",
              "      <td>23.5</td>\n",
              "      <td>23.6</td>\n",
              "      <td>23.6</td>\n",
              "      <td>23.6</td>\n",
              "      <td>23.8</td>\n",
              "      <td>24.3</td>\n",
              "      <td>23.6</td>\n",
              "      <td>23.5</td>\n",
              "      <td>22.6</td>\n",
              "      <td>23.3</td>\n",
              "      <td>23.1</td>\n",
              "      <td>22.3</td>\n",
              "      <td>0.0</td>\n",
              "    </tr>\n",
              "    <tr>\n",
              "      <th>1</th>\n",
              "      <td>2</td>\n",
              "      <td>0</td>\n",
              "      <td>23.5</td>\n",
              "      <td>23.6</td>\n",
              "      <td>23.6</td>\n",
              "      <td>23.6</td>\n",
              "      <td>23.8</td>\n",
              "      <td>24.3</td>\n",
              "      <td>23.6</td>\n",
              "      <td>23.5</td>\n",
              "      <td>22.6</td>\n",
              "      <td>23.3</td>\n",
              "      <td>23.1</td>\n",
              "      <td>22.3</td>\n",
              "      <td>-0.6</td>\n",
              "    </tr>\n",
              "    <tr>\n",
              "      <th>2</th>\n",
              "      <td>3</td>\n",
              "      <td>0</td>\n",
              "      <td>23.5</td>\n",
              "      <td>23.5</td>\n",
              "      <td>23.6</td>\n",
              "      <td>23.6</td>\n",
              "      <td>23.8</td>\n",
              "      <td>24.3</td>\n",
              "      <td>23.6</td>\n",
              "      <td>23.5</td>\n",
              "      <td>22.6</td>\n",
              "      <td>23.3</td>\n",
              "      <td>23.1</td>\n",
              "      <td>22.3</td>\n",
              "      <td>0.6</td>\n",
              "    </tr>\n",
              "    <tr>\n",
              "      <th>3</th>\n",
              "      <td>4</td>\n",
              "      <td>0</td>\n",
              "      <td>23.5</td>\n",
              "      <td>23.5</td>\n",
              "      <td>23.6</td>\n",
              "      <td>23.6</td>\n",
              "      <td>23.8</td>\n",
              "      <td>24.3</td>\n",
              "      <td>23.6</td>\n",
              "      <td>23.5</td>\n",
              "      <td>22.6</td>\n",
              "      <td>23.3</td>\n",
              "      <td>23.1</td>\n",
              "      <td>22.3</td>\n",
              "      <td>-0.6</td>\n",
              "    </tr>\n",
              "    <tr>\n",
              "      <th>4</th>\n",
              "      <td>5</td>\n",
              "      <td>0</td>\n",
              "      <td>23.5</td>\n",
              "      <td>23.5</td>\n",
              "      <td>23.6</td>\n",
              "      <td>23.6</td>\n",
              "      <td>23.8</td>\n",
              "      <td>24.3</td>\n",
              "      <td>23.6</td>\n",
              "      <td>23.5</td>\n",
              "      <td>22.6</td>\n",
              "      <td>23.3</td>\n",
              "      <td>23.1</td>\n",
              "      <td>22.3</td>\n",
              "      <td>-0.3</td>\n",
              "    </tr>\n",
              "  </tbody>\n",
              "</table>\n",
              "</div>"
            ],
            "text/plain": [
              "   SeqNo  F_1   F_2   F_3   F_4   F_5  ...   F_9  F_10  F_11  F_12  F_13    O\n",
              "0      1    0  23.5  23.6  23.6  23.6  ...  23.5  22.6  23.3  23.1  22.3  0.0\n",
              "1      2    0  23.5  23.6  23.6  23.6  ...  23.5  22.6  23.3  23.1  22.3 -0.6\n",
              "2      3    0  23.5  23.5  23.6  23.6  ...  23.5  22.6  23.3  23.1  22.3  0.6\n",
              "3      4    0  23.5  23.5  23.6  23.6  ...  23.5  22.6  23.3  23.1  22.3 -0.6\n",
              "4      5    0  23.5  23.5  23.6  23.6  ...  23.5  22.6  23.3  23.1  22.3 -0.3\n",
              "\n",
              "[5 rows x 15 columns]"
            ]
          },
          "metadata": {},
          "execution_count": 3
        }
      ]
    },
    {
      "cell_type": "code",
      "metadata": {
        "colab": {
          "base_uri": "https://localhost:8080/"
        },
        "id": "vVGr7h4lS7L5",
        "outputId": "a2a24de4-e6cd-4d63-905c-23f5c2b5ebfe"
      },
      "source": [
        "df.isnull().sum()"
      ],
      "execution_count": 4,
      "outputs": [
        {
          "output_type": "execute_result",
          "data": {
            "text/plain": [
              "SeqNo    0\n",
              "F_1      0\n",
              "F_2      0\n",
              "F_3      0\n",
              "F_4      0\n",
              "F_5      0\n",
              "F_6      0\n",
              "F_7      0\n",
              "F_8      0\n",
              "F_9      0\n",
              "F_10     0\n",
              "F_11     0\n",
              "F_12     0\n",
              "F_13     0\n",
              "O        0\n",
              "dtype: int64"
            ]
          },
          "metadata": {},
          "execution_count": 4
        }
      ]
    },
    {
      "cell_type": "code",
      "metadata": {
        "id": "ZSX39VF5fuLR"
      },
      "source": [
        "#四捨五入\n",
        "new_df=np.round(df)"
      ],
      "execution_count": 5,
      "outputs": []
    },
    {
      "cell_type": "code",
      "metadata": {
        "colab": {
          "base_uri": "https://localhost:8080/"
        },
        "id": "AtvGlU-lS_yU",
        "outputId": "18ad9c1c-10e7-421c-a073-c76a35159c2b"
      },
      "source": [
        "df.info()"
      ],
      "execution_count": 6,
      "outputs": [
        {
          "output_type": "stream",
          "name": "stdout",
          "text": [
            "<class 'pandas.core.frame.DataFrame'>\n",
            "RangeIndex: 98072 entries, 0 to 98071\n",
            "Data columns (total 15 columns):\n",
            " #   Column  Non-Null Count  Dtype  \n",
            "---  ------  --------------  -----  \n",
            " 0   SeqNo   98072 non-null  int64  \n",
            " 1   F_1     98072 non-null  int64  \n",
            " 2   F_2     98072 non-null  float64\n",
            " 3   F_3     98072 non-null  float64\n",
            " 4   F_4     98072 non-null  float64\n",
            " 5   F_5     98072 non-null  float64\n",
            " 6   F_6     98072 non-null  float64\n",
            " 7   F_7     98072 non-null  float64\n",
            " 8   F_8     98072 non-null  float64\n",
            " 9   F_9     98072 non-null  float64\n",
            " 10  F_10    98072 non-null  float64\n",
            " 11  F_11    98072 non-null  float64\n",
            " 12  F_12    98072 non-null  float64\n",
            " 13  F_13    98072 non-null  float64\n",
            " 14  O       98072 non-null  float64\n",
            "dtypes: float64(13), int64(2)\n",
            "memory usage: 11.2 MB\n"
          ]
        }
      ]
    },
    {
      "cell_type": "code",
      "metadata": {
        "id": "XGR4jOUuTCrg"
      },
      "source": [
        "X = df.drop(['O'],axis=1)\n",
        "Y = df['O']\n",
        "X = np.array(X, dtype=int)"
      ],
      "execution_count": 7,
      "outputs": []
    },
    {
      "cell_type": "code",
      "metadata": {
        "id": "9vKujNStTLJr"
      },
      "source": [
        "from xgboost import XGBRegressor"
      ],
      "execution_count": 8,
      "outputs": []
    },
    {
      "cell_type": "code",
      "metadata": {
        "id": "QeMvne15pjKa"
      },
      "source": [
        "from sklearn.model_selection import train_test_split\n",
        "\n",
        "X_train, X_test, y_train, y_test = train_test_split(X, Y, test_size=0.2,random_state=1)\n",
        "y_act = y_test\n",
        "y_train = np.array(y_train, dtype=int)\n",
        "y_test = np.array(y_test, dtype=int)"
      ],
      "execution_count": 9,
      "outputs": []
    },
    {
      "cell_type": "code",
      "metadata": {
        "colab": {
          "base_uri": "https://localhost:8080/"
        },
        "id": "Q2XUSKeETTwq",
        "outputId": "a0e935eb-1d5b-4253-8371-508e7b29a9da"
      },
      "source": [
        "model = XGBRegressor(max_depth=10, n_estimators=1000, gamma=0.1, learning_rate=0.01)\n",
        "model.fit(X_train,y_train)"
      ],
      "execution_count": 10,
      "outputs": [
        {
          "output_type": "stream",
          "name": "stdout",
          "text": [
            "[07:16:33] WARNING: /workspace/src/objective/regression_obj.cu:152: reg:linear is now deprecated in favor of reg:squarederror.\n"
          ]
        },
        {
          "output_type": "execute_result",
          "data": {
            "text/plain": [
              "XGBRegressor(base_score=0.5, booster='gbtree', colsample_bylevel=1,\n",
              "             colsample_bynode=1, colsample_bytree=1, gamma=0.1,\n",
              "             importance_type='gain', learning_rate=0.01, max_delta_step=0,\n",
              "             max_depth=10, min_child_weight=1, missing=None, n_estimators=1000,\n",
              "             n_jobs=1, nthread=None, objective='reg:linear', random_state=0,\n",
              "             reg_alpha=0, reg_lambda=1, scale_pos_weight=1, seed=None,\n",
              "             silent=None, subsample=1, verbosity=1)"
            ]
          },
          "metadata": {},
          "execution_count": 10
        }
      ]
    },
    {
      "cell_type": "code",
      "metadata": {
        "id": "3J_TKNmyqJB9"
      },
      "source": [
        "y_pred = model.predict(X_test)"
      ],
      "execution_count": 11,
      "outputs": []
    },
    {
      "cell_type": "code",
      "metadata": {
        "colab": {
          "base_uri": "https://localhost:8080/"
        },
        "id": "oJiievrhqPSQ",
        "outputId": "b7630c6f-159d-4cf2-c3f9-0313a0f52864"
      },
      "source": [
        "from sklearn.metrics import mean_squared_error\n",
        "from sklearn.metrics import mean_absolute_error\n",
        "from sklearn.metrics import r2_score\n",
        "mse = mean_squared_error(y_act,y_pred)\n",
        "mae = mean_absolute_error(y_act,y_pred)\n",
        "r2 = r2_score(y_act,y_pred)\n",
        "print(mse)\n",
        "print(mae)\n",
        "print(r2)"
      ],
      "execution_count": 12,
      "outputs": [
        {
          "output_type": "stream",
          "name": "stdout",
          "text": [
            "0.7437428861069563\n",
            "0.5855452123034345\n",
            "0.9983197396847009\n"
          ]
        }
      ]
    },
    {
      "cell_type": "code",
      "metadata": {
        "id": "R6s6DChRiliB"
      },
      "source": [
        "c1=[]\n",
        "c1=abs(y_act-y_pred)"
      ],
      "execution_count": 14,
      "outputs": []
    },
    {
      "cell_type": "code",
      "metadata": {
        "id": "Lalf3GdhPulP"
      },
      "source": [
        "data = {'y_test':y_act,\"y_pred\":y_pred,\"subtract\":c1}"
      ],
      "execution_count": 15,
      "outputs": []
    },
    {
      "cell_type": "code",
      "metadata": {
        "id": "zmlXeA2NY2ku"
      },
      "source": [
        "dataframe = pd.DataFrame(data)\n",
        "dataframe.to_csv('/content/drive/MyDrive/test.csv',index=False) "
      ],
      "execution_count": 16,
      "outputs": []
    }
  ]
}